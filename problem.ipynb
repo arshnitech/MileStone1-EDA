{
 "cells": [
  {
   "cell_type": "code",
   "execution_count": 3,
   "id": "561ac6a5-ecb3-4b95-b824-18db5557b62f",
   "metadata": {},
   "outputs": [],
   "source": [
    "### Problem Notebook: problem.ipynb\n",
    "\n",
    "# Install necessary libr\n",
    "import pandas as pd\n",
    "import numpy as np\n",
    "import matplotlib.pyplot as plt\n",
    "import seaborn as sns"
   ]
  },
  {
   "cell_type": "code",
   "execution_count": 4,
   "id": "288c00dc-5264-485c-8270-36cfc03132a9",
   "metadata": {
    "scrolled": true
   },
   "outputs": [],
   "source": [
    "# Load dataset\n",
    "df = pd.read_csv(\"/home/vmuser/Desktop/project1/Store.csv\", encoding=\"ISO-8859-1\")\n",
    "\n",
    "def load_the_dataset():\n",
    "    \"\"\"Loads the dataset.\"\"\"\n",
    "    return df"
   ]
  },
  {
   "cell_type": "code",
   "execution_count": 5,
   "id": "94f491d8-6a41-4c30-8b2a-10f2145568a7",
   "metadata": {},
   "outputs": [],
   "source": [
    "def process_store_data(df):\n",
    "    \"\"\"Performs basic preprocessing such as dropping null values.\"\"\"\n",
    "    df = df.dropna()\n",
    "    return df"
   ]
  },
  {
   "cell_type": "code",
   "execution_count": 6,
   "id": "af135522-f5d0-4ab0-a7bd-bfe4cb26b9d0",
   "metadata": {},
   "outputs": [],
   "source": [
    "def find_unique_values(df, column_name):\n",
    "    \"\"\"Finds unique values in a given column.\"\"\"\n",
    "    return df[column_name].unique()"
   ]
  },
  {
   "cell_type": "code",
   "execution_count": 7,
   "id": "f69cc2bc-73d1-4411-9cc9-8d2054682fb2",
   "metadata": {},
   "outputs": [],
   "source": [
    "def total_sales(df):\n",
    "    \"\"\"Calculates the total sales amount.\"\"\"\n",
    "    return df['Sales'].sum()\n",
    "\n"
   ]
  },
  {
   "cell_type": "code",
   "execution_count": 8,
   "id": "9531353a-adea-4c52-9eff-497670424b79",
   "metadata": {},
   "outputs": [],
   "source": [
    "def check_missing_values(df):\n",
    "    \"\"\"Checks for missing values in the dataset.\"\"\"\n",
    "    return df.isnull().sum()"
   ]
  },
  {
   "cell_type": "code",
   "execution_count": 9,
   "id": "42f5d224-2d8e-4105-b3ea-1bd4cb61a41c",
   "metadata": {},
   "outputs": [],
   "source": [
    "# Execute functions to verify they work correctly\n",
    "dataset = load_the_dataset()\n",
    "dataset = process_store_data(dataset)\n",
    "unique_segments = find_unique_values(dataset, \"Segment\")\n",
    "sales_total = total_sales(dataset)\n",
    "missing_values = check_missing_values(dataset)"
   ]
  },
  {
   "cell_type": "code",
   "execution_count": 10,
   "id": "2072f6ea-f994-490a-8788-ffc364591df9",
   "metadata": {},
   "outputs": [
    {
     "name": "stdout",
     "output_type": "stream",
     "text": [
      "Unique Segments: ['Consumer' 'Corporate' 'Home Office']\n",
      "Total Sales: 2297200.8603000003\n",
      "Missing Values: Unnamed: 0       0\n",
      "Row ID           0\n",
      "Order ID         0\n",
      "Order Date       0\n",
      "Ship Date        0\n",
      "Ship Mode        0\n",
      "Customer ID      0\n",
      "Customer Name    0\n",
      "Segment          0\n",
      "Country          0\n",
      "City             0\n",
      "State            0\n",
      "Postal Code      0\n",
      "Region           0\n",
      "Product ID       0\n",
      "Category         0\n",
      "Sub-Category     0\n",
      "Product Name     0\n",
      "Sales            0\n",
      "Quantity         0\n",
      "Discount         0\n",
      "Profit           0\n",
      "dtype: int64\n"
     ]
    }
   ],
   "source": [
    "# Print results\n",
    "print(\"Unique Segments:\", unique_segments)\n",
    "print(\"Total Sales:\", sales_total)\n",
    "print(\"Missing Values:\", missing_values)"
   ]
  },
  {
   "cell_type": "code",
   "execution_count": null,
   "id": "e93fb6d4-483b-4e29-8967-8a33567f2f5a",
   "metadata": {},
   "outputs": [],
   "source": []
  }
 ],
 "metadata": {
  "kernelspec": {
   "display_name": "Python 3 (ipykernel)",
   "language": "python",
   "name": "python3"
  },
  "language_info": {
   "codemirror_mode": {
    "name": "ipython",
    "version": 3
   },
   "file_extension": ".py",
   "mimetype": "text/x-python",
   "name": "python",
   "nbconvert_exporter": "python",
   "pygments_lexer": "ipython3",
   "version": "3.10.12"
  }
 },
 "nbformat": 4,
 "nbformat_minor": 5
}
